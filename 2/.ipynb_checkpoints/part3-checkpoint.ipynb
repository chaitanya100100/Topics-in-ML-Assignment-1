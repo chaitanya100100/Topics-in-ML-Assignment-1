{
 "cells": [
  {
   "cell_type": "code",
   "execution_count": 1,
   "metadata": {},
   "outputs": [],
   "source": [
    "import numpy as np\n",
    "import matplotlib.pyplot as plt\n"
   ]
  },
  {
   "cell_type": "code",
   "execution_count": 2,
   "metadata": {},
   "outputs": [
    {
     "name": "stdout",
     "output_type": "stream",
     "text": [
      "[1850 4329 2984 3406  950 2120 1757 4170 4233 2716 1182 1450 1196 3568\n",
      " 4448  338  742 3271  417 1335 2422 1183 4527  433 4245 2950 2321 2250\n",
      " 3448 3060 2913 1476  164   12  323 3731 4150 3173 2803  584  130 1807\n",
      " 1444  149 1918 2666 2594 1574 3155 2013 3563 3796 4448 1264 2374  179\n",
      " 3525  551 3731 1018  262 3284 2903  813  404 1252 2314 2348 3763  680\n",
      " 2481    7 4527 1014 2925  161  679 4160 2675 2350 3251 3838 3738 3982\n",
      " 3265  304 2705 1359 2232 3460 4104 4006 3432  136 3941 3416 3809  531\n",
      " 2063 1467 2253 1596 1236 4092 3529  829 1277 3322 1664 1047 2581 4246\n",
      "  338 1650  843 3498  778 3704   68  337 3263 4570 2115   80 1905 4401\n",
      " 1899  435  928 3847 3116 4367 3623 1616 2213 1640 4171 2164 3813 3815\n",
      " 3906 1473 3637 1163  426  635   31 3653  488 1162  164  258  254  254\n",
      "  289 1129  833 1099 3398 3618 4304 3326 2572 3076 3600  707  650 1673\n",
      " 1355 3035 2080 3607 1409 3362 4395 3374  256  512 1245 4031 4477 3587\n",
      " 3296 3353 3172 2596 3639 3929  860 4464  923 2194 2105 2836  915 3529\n",
      " 1804 1366 1825 3335 2834 1224 1885 3967 2862  935 4429 2446 3405  304\n",
      " 1130 4163 1290 4569 3801 1570  787 2550 3816 4234  437 4426 2476 3885\n",
      " 3346 1257 1093 3020  300 3226 1803 2182 1888 3780 3183  710 1487  652\n",
      " 3253  761 3039 4092 1811 2284  481  116 3152  431 1673 3887  244 1731\n",
      "  954 1332 1760 3886 4324  592 2247 1997 4507 3432 2521 3931 2926 1340\n",
      " 3302  369 3023 4302 1708 3455 1830 1058 4050 1267 4405 4350 2926 2307\n",
      " 2452 3608 2109 3559 1459  928 3039 3699  926 1367 3402 3647  558 4109\n",
      " 3245 1265  788  809 3067 1179 3273 4248  166  673  372 2784 3731 2932\n",
      " 3446  744 2011 3974 2792  609 3640 2006 3055 1992 1622 2139 3166 1890\n",
      " 4027 1263 2322 4432 3771  318 3128 2445 4422 3853 3153 4109 4343 3009\n",
      " 4266  315  802  968 3612 3606 3872  566 3435 3093 3305 3806 1534 4319\n",
      "  987 4066  783 4211 1800 2862  764  159 3652 3569  868 1344 1241 3930\n",
      " 2806  186 1708 3231 3005 1015 4406 2989  824 1724 1159 2206 3229 2783\n",
      "  245 1110 1551 2691 2453 2256  430 3627 1765 3420 1105   99 4397  586\n",
      " 3578 1228 1178 1863  606 3891 1584 3327 2023 4468 2292 2679 3676 4081\n",
      "  462 2784  112 3347  551  633 2041  567 1642 3829 3523  159    4  793\n",
      " 3101  231  529 1767 2200 2898   58 2296 3380  937 2778 3237 1839 3895\n",
      " 1717 3742 3012 1306 3838 3003 4482 4211 3605  108 2168 3861  366 2011\n",
      "  488 1555 1862  483 2581  144 2807 1362  767 4317 1623  729]\n"
     ]
    }
   ],
   "source": [
    "# load and preprocess the data\n",
    "\n",
    "spambase_path = \"./data/spambase/spambase.data\"\n",
    "X = np.genfromtxt(spambase_path, delimiter=',')\n",
    "\n",
    "Y = X[:, -1]\n",
    "X = X[:, :-1]\n",
    "\n",
    "## modify 10% data labels\n",
    "tochange = np.random.choice(Y.shape[0], int(0.1*Y.shape[0]))\n",
    "Y[tochange] = 1 - Y[tochange]\n",
    "\n",
    "Y[Y < 0.01] = -1\n",
    "X = (X - X.mean(axis=0)) / X.std(axis=0)\n",
    "X = np.hstack((X, np.ones((X.shape[0],1))))\n"
   ]
  },
  {
   "cell_type": "code",
   "execution_count": null,
   "metadata": {},
   "outputs": [],
   "source": [
    "def perceptron(X, Y, T, eta=0.1):\n",
    "    correct = np.zeros(T,)\n",
    "\n",
    "    N, d = X.shape\n",
    "    W = np.zeros(d,)\n",
    "\n",
    "    for t in range(T):\n",
    "        it = np.random.randint(N)\n",
    "        x = X[it]\n",
    "\n",
    "        y_bar = -1 if W.dot(x) < 0 else 1\n",
    "        y = Y[it]\n",
    "\n",
    "        if y*y_bar < 0:\n",
    "            W = W + eta * y * x\n",
    "            correct[t] = 0\n",
    "        else:\n",
    "            correct[t] = 1\n",
    "            \n",
    "    return correct\n"
   ]
  },
  {
   "cell_type": "code",
   "execution_count": null,
   "metadata": {},
   "outputs": [],
   "source": [
    "def winnow(X, Y, T, eta=0.1):\n",
    "    correct = np.zeros(T,)\n",
    "    X = np.hstack((X, -X))\n",
    "    \n",
    "    N, d = X.shape\n",
    "    W = np.ones(d,) / d\n",
    "    \n",
    "    for t in range(T):\n",
    "        it = np.random.randint(N)\n",
    "        x = X[it]\n",
    "        \n",
    "        y_bar = -1 if W.dot(x) < 0 else 1\n",
    "        y = Y[it]\n",
    "        \n",
    "        if y*y_bar < 0:\n",
    "            W = W * np.exp(eta * y * x)\n",
    "            W = W / W.sum()\n",
    "            correct[t] = 0\n",
    "        else:\n",
    "            correct[t] = 1\n",
    "            \n",
    "    return correct\n",
    "    "
   ]
  },
  {
   "cell_type": "code",
   "execution_count": null,
   "metadata": {},
   "outputs": [],
   "source": [
    "def check_accuracy(X, Y, W):\n",
    "    cor = sum([1 for x, y in zip(X, Y) if y*W.dot(x) > 0])\n",
    "    return 1.0 * cor / X.shape[0]"
   ]
  },
  {
   "cell_type": "code",
   "execution_count": null,
   "metadata": {},
   "outputs": [],
   "source": [
    "T = 10000\n",
    "runs = 100\n",
    "correct_perc1 = np.zeros((runs, T))\n",
    "\n",
    "for i in range(runs):\n",
    "    np.random.seed(i*57)\n",
    "    cor = perceptron(X, Y, T, eta=0.1)\n",
    "    correct_perc1[i, :] = cor\n"
   ]
  },
  {
   "cell_type": "code",
   "execution_count": null,
   "metadata": {},
   "outputs": [],
   "source": [
    "T = 10000\n",
    "runs = 100\n",
    "correct_winn1 = np.zeros((runs, T))\n",
    "\n",
    "for i in range(runs):\n",
    "    np.random.seed(i*57)\n",
    "    cor = winnow(X, Y, T, eta=0.1)\n",
    "    correct_winn1[i, :] = cor\n"
   ]
  },
  {
   "cell_type": "code",
   "execution_count": null,
   "metadata": {},
   "outputs": [],
   "source": [
    "T = 10000\n",
    "runs = 100\n",
    "correct_perc2 = np.zeros((runs, T))\n",
    "\n",
    "for i in range(runs):\n",
    "    np.random.seed(i*57)\n",
    "    cor = perceptron(X, Y, T, eta=1.0)\n",
    "    correct_perc2[i, :] = cor\n"
   ]
  },
  {
   "cell_type": "code",
   "execution_count": null,
   "metadata": {},
   "outputs": [],
   "source": [
    "T = 10000\n",
    "runs = 100\n",
    "correct_winn2 = np.zeros((runs, T))\n",
    "\n",
    "for i in range(runs):\n",
    "    np.random.seed(i*57)\n",
    "    cor = winnow(X, Y, T, eta=1.0)\n",
    "    correct_winn2[i, :] = cor\n"
   ]
  },
  {
   "cell_type": "code",
   "execution_count": null,
   "metadata": {},
   "outputs": [],
   "source": [
    "%matplotlib notebook\n",
    "\n",
    "xlab = np.arange(T)\n",
    "g = 100\n",
    "\n",
    "mu = correct_perc1.mean(axis=0)\n",
    "sig = correct_perc1.std(axis=0)**2\n",
    "plt.errorbar(xlab[::g], mu[::g], yerr=sig[::g], fmt='o', label=\"perceptron(eta=0.1)\")\n",
    "\n",
    "\n",
    "plt.legend(loc=4)\n",
    "plt.ylim(0, 1)\n",
    "plt.ylabel(\"correct predictions\")\n",
    "plt.xlabel(\"time steps\")\n",
    "plt.title(\"Perceptron on Spambase database\")\n",
    "plt.show()\n",
    "\n"
   ]
  }
 ],
 "metadata": {
  "kernelspec": {
   "display_name": "Python 3",
   "language": "python",
   "name": "python3"
  },
  "language_info": {
   "codemirror_mode": {
    "name": "ipython",
    "version": 2
   },
   "file_extension": ".py",
   "mimetype": "text/x-python",
   "name": "python",
   "nbconvert_exporter": "python",
   "pygments_lexer": "ipython2",
   "version": "2.7.12"
  }
 },
 "nbformat": 4,
 "nbformat_minor": 2
}
